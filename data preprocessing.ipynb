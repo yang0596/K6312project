{
 "cells": [
  {
   "cell_type": "code",
   "execution_count": 146,
   "metadata": {},
   "outputs": [
    {
     "data": {
      "text/plain": [
       "(9984, 26)"
      ]
     },
     "execution_count": 146,
     "metadata": {},
     "output_type": "execute_result"
    }
   ],
   "source": [
    "import pandas as pd\n",
    "import numpy as np\n",
    "import matplotlib.pyplot as plt\n",
    "%matplotlib inline\n",
    "import matplotlib\n",
    "import seaborn as sns\n",
    "from IPython.core.pylabtools import figsize\n",
    "from scipy.stats import percentileofscore\n",
    "from scipy import stats\n",
    "from sklearn.model_selection import train_test_split\n",
    "from sklearn.preprocessing import StandardScaler\n",
    "import sklearn as sk\n",
    "plt.rcParams['axes.unicode_minus']=False\n",
    "import warnings\n",
    "warnings.filterwarnings(\"ignore\")\n",
    "\n",
    "file_name = \"suicidedataset.csv\"\n",
    "dataset = pd.read_csv(file_name)\n",
    "\n",
    "#Select the time range from 1995 to 2013\n",
    "dataset = dataset[dataset.year >= 1995] \n",
    "dataset= dataset[dataset.year <= 2013]\n",
    "dataset.shape"
   ]
  },
  {
   "cell_type": "code",
   "execution_count": 147,
   "metadata": {},
   "outputs": [],
   "source": [
    "dataset1=dataset.rename(columns={'Individuals using the Internet (% of population)':'Internetusers','Expense (% of GDP)':'Expenses',\n",
    "                                 'Compensation of employees (% of expense)':'EmployeeCompensation','Unemployment, total (% of total labor force) (modeled ILO estimate)':'Unemployment',\n",
    "                                 'Physicians (per 1,000 people)':'Physicians','Strength of legal rights index (0=weak to 12=strong)':'StrengthofLegalRightsIndex','Life expectancy at birth, total (years)':'LifeExpectancyatBirth',\n",
    "                                'Mobile cellular subscriptions (per 100 people)':'MobileCellularSubscriptions','Refugee population by country or territory of origin':'Refugee',\n",
    "                                'Contributing family workers, total (% of total employment) (modeled ILO estimate)':'ContributingFamilyWorkers','Access to electricity (% of population)':'AccesstoElectricity',\n",
    "                                'Lower secondary completion rate, total (% of relevant age group)':'LowerSecondaryCompletionRate','Labor force, total':'LaborForce'})\n",
    "\n",
    "\n"
   ]
  },
  {
   "cell_type": "code",
   "execution_count": 148,
   "metadata": {},
   "outputs": [
    {
     "data": {
      "text/html": [
       "<div>\n",
       "<style scoped>\n",
       "    .dataframe tbody tr th:only-of-type {\n",
       "        vertical-align: middle;\n",
       "    }\n",
       "\n",
       "    .dataframe tbody tr th {\n",
       "        vertical-align: top;\n",
       "    }\n",
       "\n",
       "    .dataframe thead th {\n",
       "        text-align: right;\n",
       "    }\n",
       "</style>\n",
       "<table border=\"1\" class=\"dataframe\">\n",
       "  <thead>\n",
       "    <tr style=\"text-align: right;\">\n",
       "      <th></th>\n",
       "      <th>country</th>\n",
       "      <th>year</th>\n",
       "      <th>sex</th>\n",
       "      <th>age</th>\n",
       "      <th>suicides_no</th>\n",
       "      <th>population</th>\n",
       "      <th>suicidesper100k</th>\n",
       "      <th>country-year</th>\n",
       "      <th>yearlyHDI</th>\n",
       "      <th>GDPpyear</th>\n",
       "      <th>...</th>\n",
       "      <th>Unemployment</th>\n",
       "      <th>Physicians</th>\n",
       "      <th>StrengthofLegalRightsIndex</th>\n",
       "      <th>LaborForce</th>\n",
       "      <th>LifeExpectancyatBirth</th>\n",
       "      <th>MobileCellularSubscriptions</th>\n",
       "      <th>Refugee</th>\n",
       "      <th>ContributingFamilyWorkers</th>\n",
       "      <th>AccesstoElectricity</th>\n",
       "      <th>LowerSecondaryCompletionRate</th>\n",
       "    </tr>\n",
       "  </thead>\n",
       "  <tbody>\n",
       "    <tr>\n",
       "      <th>120</th>\n",
       "      <td>Argentina</td>\n",
       "      <td>1995</td>\n",
       "      <td>male</td>\n",
       "      <td>75+ years</td>\n",
       "      <td>190</td>\n",
       "      <td>433800</td>\n",
       "      <td>43.80</td>\n",
       "      <td>Argentina1995</td>\n",
       "      <td>0.731</td>\n",
       "      <td>2.580320e+11</td>\n",
       "      <td>...</td>\n",
       "      <td>18.799999</td>\n",
       "      <td>2.68</td>\n",
       "      <td>NaN</td>\n",
       "      <td>14979213</td>\n",
       "      <td>72.651</td>\n",
       "      <td>1.163986</td>\n",
       "      <td>330.0</td>\n",
       "      <td>1.409</td>\n",
       "      <td>NaN</td>\n",
       "      <td>NaN</td>\n",
       "    </tr>\n",
       "    <tr>\n",
       "      <th>121</th>\n",
       "      <td>Argentina</td>\n",
       "      <td>1995</td>\n",
       "      <td>male</td>\n",
       "      <td>55-74 years</td>\n",
       "      <td>515</td>\n",
       "      <td>2214000</td>\n",
       "      <td>23.26</td>\n",
       "      <td>Argentina1995</td>\n",
       "      <td>0.731</td>\n",
       "      <td>2.580320e+11</td>\n",
       "      <td>...</td>\n",
       "      <td>18.799999</td>\n",
       "      <td>2.68</td>\n",
       "      <td>NaN</td>\n",
       "      <td>14979213</td>\n",
       "      <td>72.651</td>\n",
       "      <td>1.163986</td>\n",
       "      <td>330.0</td>\n",
       "      <td>1.409</td>\n",
       "      <td>NaN</td>\n",
       "      <td>NaN</td>\n",
       "    </tr>\n",
       "    <tr>\n",
       "      <th>122</th>\n",
       "      <td>Argentina</td>\n",
       "      <td>1995</td>\n",
       "      <td>male</td>\n",
       "      <td>35-54 years</td>\n",
       "      <td>485</td>\n",
       "      <td>3787800</td>\n",
       "      <td>12.80</td>\n",
       "      <td>Argentina1995</td>\n",
       "      <td>0.731</td>\n",
       "      <td>2.580320e+11</td>\n",
       "      <td>...</td>\n",
       "      <td>18.799999</td>\n",
       "      <td>2.68</td>\n",
       "      <td>NaN</td>\n",
       "      <td>14979213</td>\n",
       "      <td>72.651</td>\n",
       "      <td>1.163986</td>\n",
       "      <td>330.0</td>\n",
       "      <td>1.409</td>\n",
       "      <td>NaN</td>\n",
       "      <td>NaN</td>\n",
       "    </tr>\n",
       "    <tr>\n",
       "      <th>123</th>\n",
       "      <td>Argentina</td>\n",
       "      <td>1995</td>\n",
       "      <td>male</td>\n",
       "      <td>25-34 years</td>\n",
       "      <td>218</td>\n",
       "      <td>2404900</td>\n",
       "      <td>9.06</td>\n",
       "      <td>Argentina1995</td>\n",
       "      <td>0.731</td>\n",
       "      <td>2.580320e+11</td>\n",
       "      <td>...</td>\n",
       "      <td>18.799999</td>\n",
       "      <td>2.68</td>\n",
       "      <td>NaN</td>\n",
       "      <td>14979213</td>\n",
       "      <td>72.651</td>\n",
       "      <td>1.163986</td>\n",
       "      <td>330.0</td>\n",
       "      <td>1.409</td>\n",
       "      <td>NaN</td>\n",
       "      <td>NaN</td>\n",
       "    </tr>\n",
       "    <tr>\n",
       "      <th>124</th>\n",
       "      <td>Argentina</td>\n",
       "      <td>1995</td>\n",
       "      <td>male</td>\n",
       "      <td>15-24 years</td>\n",
       "      <td>277</td>\n",
       "      <td>3112100</td>\n",
       "      <td>8.90</td>\n",
       "      <td>Argentina1995</td>\n",
       "      <td>0.731</td>\n",
       "      <td>2.580320e+11</td>\n",
       "      <td>...</td>\n",
       "      <td>18.799999</td>\n",
       "      <td>2.68</td>\n",
       "      <td>NaN</td>\n",
       "      <td>14979213</td>\n",
       "      <td>72.651</td>\n",
       "      <td>1.163986</td>\n",
       "      <td>330.0</td>\n",
       "      <td>1.409</td>\n",
       "      <td>NaN</td>\n",
       "      <td>NaN</td>\n",
       "    </tr>\n",
       "  </tbody>\n",
       "</table>\n",
       "<p>5 rows × 26 columns</p>\n",
       "</div>"
      ],
      "text/plain": [
       "       country  year   sex          age  suicides_no  population  \\\n",
       "120  Argentina  1995  male    75+ years          190      433800   \n",
       "121  Argentina  1995  male  55-74 years          515     2214000   \n",
       "122  Argentina  1995  male  35-54 years          485     3787800   \n",
       "123  Argentina  1995  male  25-34 years          218     2404900   \n",
       "124  Argentina  1995  male  15-24 years          277     3112100   \n",
       "\n",
       "     suicidesper100k   country-year  yearlyHDI      GDPpyear  ...  \\\n",
       "120            43.80  Argentina1995      0.731  2.580320e+11  ...   \n",
       "121            23.26  Argentina1995      0.731  2.580320e+11  ...   \n",
       "122            12.80  Argentina1995      0.731  2.580320e+11  ...   \n",
       "123             9.06  Argentina1995      0.731  2.580320e+11  ...   \n",
       "124             8.90  Argentina1995      0.731  2.580320e+11  ...   \n",
       "\n",
       "     Unemployment Physicians  StrengthofLegalRightsIndex  LaborForce  \\\n",
       "120     18.799999       2.68                         NaN    14979213   \n",
       "121     18.799999       2.68                         NaN    14979213   \n",
       "122     18.799999       2.68                         NaN    14979213   \n",
       "123     18.799999       2.68                         NaN    14979213   \n",
       "124     18.799999       2.68                         NaN    14979213   \n",
       "\n",
       "     LifeExpectancyatBirth  MobileCellularSubscriptions  Refugee  \\\n",
       "120                 72.651                     1.163986    330.0   \n",
       "121                 72.651                     1.163986    330.0   \n",
       "122                 72.651                     1.163986    330.0   \n",
       "123                 72.651                     1.163986    330.0   \n",
       "124                 72.651                     1.163986    330.0   \n",
       "\n",
       "     ContributingFamilyWorkers  AccesstoElectricity  \\\n",
       "120                      1.409                  NaN   \n",
       "121                      1.409                  NaN   \n",
       "122                      1.409                  NaN   \n",
       "123                      1.409                  NaN   \n",
       "124                      1.409                  NaN   \n",
       "\n",
       "     LowerSecondaryCompletionRate  \n",
       "120                           NaN  \n",
       "121                           NaN  \n",
       "122                           NaN  \n",
       "123                           NaN  \n",
       "124                           NaN  \n",
       "\n",
       "[5 rows x 26 columns]"
      ]
     },
     "execution_count": 148,
     "metadata": {},
     "output_type": "execute_result"
    }
   ],
   "source": [
    "dataset1.head()"
   ]
  },
  {
   "cell_type": "code",
   "execution_count": 149,
   "metadata": {},
   "outputs": [
    {
     "name": "stdout",
     "output_type": "stream",
     "text": [
      "country                            0\n",
      "year                               0\n",
      "sex                                0\n",
      "age                                0\n",
      "suicides_no                        0\n",
      "population                         0\n",
      "suicidesper100k                    0\n",
      "country-year                       0\n",
      "yearlyHDI                       6432\n",
      "GDPpyear                           0\n",
      "GDPpcapital                        0\n",
      "generation                         0\n",
      "suicide%                           0\n",
      "Internetusers                    108\n",
      "Expenses                        1476\n",
      "EmployeeCompensation            1572\n",
      "Unemployment                       0\n",
      "Physicians                      2328\n",
      "StrengthofLegalRightsIndex      9492\n",
      "LaborForce                         0\n",
      "LifeExpectancyatBirth              0\n",
      "MobileCellularSubscriptions        0\n",
      "Refugee                          132\n",
      "ContributingFamilyWorkers          0\n",
      "AccesstoElectricity              468\n",
      "LowerSecondaryCompletionRate    5568\n",
      "dtype: int64\n",
      "(9984, 26)\n"
     ]
    }
   ],
   "source": [
    "print(dataset1.isnull().sum())\n",
    "print(dataset1.shape)"
   ]
  },
  {
   "cell_type": "code",
   "execution_count": 150,
   "metadata": {},
   "outputs": [
    {
     "data": {
      "text/plain": [
       "country                           0\n",
       "year                              0\n",
       "sex                               0\n",
       "age                               0\n",
       "suicides_no                       0\n",
       "population                        0\n",
       "suicidesper100k                   0\n",
       "GDPpyear                          0\n",
       "GDPpcapital                       0\n",
       "generation                        0\n",
       "suicide%                          0\n",
       "Internetusers                   108\n",
       "Expenses                       1476\n",
       "EmployeeCompensation           1572\n",
       "Unemployment                      0\n",
       "LaborForce                        0\n",
       "LifeExpectancyatBirth             0\n",
       "MobileCellularSubscriptions       0\n",
       "Refugee                         132\n",
       "ContributingFamilyWorkers         0\n",
       "AccesstoElectricity             468\n",
       "dtype: int64"
      ]
     },
     "execution_count": 150,
     "metadata": {},
     "output_type": "execute_result"
    }
   ],
   "source": [
    "dataset1.drop('country-year',axis=1,inplace=True)  #因为既有country又有year，所以这个特征无用\n",
    "dataset1.drop('yearlyHDI',axis=1,inplace=True)  \n",
    "dataset1.drop('LowerSecondaryCompletionRate',axis=1,inplace=True)\n",
    "dataset1.drop('Physicians',axis=1,inplace=True) \n",
    "dataset1.drop('StrengthofLegalRightsIndex',axis=1,inplace=True)\n",
    "dataset1.isnull().sum()"
   ]
  },
  {
   "cell_type": "code",
   "execution_count": 151,
   "metadata": {},
   "outputs": [],
   "source": [
    "\n",
    "dataset1.Internetusers.fillna(dataset1.Internetusers.min(), inplace=True)\n",
    "dataset1.Refugee.fillna(dataset1.Refugee.min(),inplace=True)\n",
    "dataset1.EmployeeCompensation.fillna(dataset1.EmployeeCompensation.mean(),inplace=True)\n",
    "dataset1.Expenses.fillna(dataset1.Expenses.mean(),inplace=True)\n",
    "dataset1.AccesstoElectricity.fillna(dataset1.AccesstoElectricity.mean(),inplace=True)\n"
   ]
  },
  {
   "cell_type": "code",
   "execution_count": 152,
   "metadata": {},
   "outputs": [
    {
     "name": "stdout",
     "output_type": "stream",
     "text": [
      "country                        False\n",
      "year                           False\n",
      "sex                            False\n",
      "age                            False\n",
      "suicides_no                    False\n",
      "population                     False\n",
      "suicidesper100k                False\n",
      "GDPpyear                       False\n",
      "GDPpcapital                    False\n",
      "generation                     False\n",
      "suicide%                       False\n",
      "Internetusers                  False\n",
      "Expenses                       False\n",
      "EmployeeCompensation           False\n",
      "Unemployment                   False\n",
      "LaborForce                     False\n",
      "LifeExpectancyatBirth          False\n",
      "MobileCellularSubscriptions    False\n",
      "Refugee                        False\n",
      "ContributingFamilyWorkers      False\n",
      "AccesstoElectricity            False\n",
      "dtype: bool\n",
      "(9984, 21)\n"
     ]
    }
   ],
   "source": [
    "print(dataset1.isnull().any())\n",
    "print(dataset1.shape)"
   ]
  },
  {
   "cell_type": "code",
   "execution_count": 153,
   "metadata": {
    "scrolled": true
   },
   "outputs": [
    {
     "name": "stdout",
     "output_type": "stream",
     "text": [
      "13.061019631410256\n"
     ]
    }
   ],
   "source": [
    "dataset1['risk']=dataset1.suicidesper100k.copy()\n",
    "dataset1['risk']=np.where(dataset1.risk<dataset1.suicidesper100k.mean(),0,1)\n",
    "print(dataset1.suicidesper100k.mean())"
   ]
  },
  {
   "cell_type": "code",
   "execution_count": 154,
   "metadata": {},
   "outputs": [
    {
     "data": {
      "image/png": "[encoded data removed]",
      "text/plain": [
       "<Figure size 1152x360 with 2 Axes>"
      ]
     },
     "metadata": {
      "needs_background": "light"
     },
     "output_type": "display_data"
    }
   ],
   "source": [
    "col = plt.cm.Spectral(np.linspace(0, 1, 22))\n",
    "plt.figure(figsize=(16, 5))\n",
    "plt.subplot(121)\n",
    "plt.hist(dataset1.risk, color=col[8])\n",
    "plt.ylabel('counts', fontsize=20)\n",
    "plt.xlabel('Suicide risk', fontsize=20)\n",
    "plt.title(\"Number of high and low risk suicides\")\n",
    "\n",
    "plt.subplot(122)\n",
    "sns.distplot(dataset1.suicidesper100k[dataset1.risk == 0], bins=10)#低风险\n",
    "sns.distplot(dataset1.suicidesper100k[dataset1.risk == 1], bins=20)#高风险\n",
    "plt.xlabel('Suicides', fontsize=20)\n",
    "plt.title(\"Distribution of high and low risk of suicide\")\n",
    "plt.show()"
   ]
  },
  {
   "cell_type": "code",
   "execution_count": 155,
   "metadata": {},
   "outputs": [
    {
     "data": {
      "text/plain": [
       "array([ 0,  1,  2,  3,  4,  5,  6,  7,  8,  9, 10, 11, 12, 13, 14, 15, 16,\n",
       "       17, 18, 19, 20, 21, 22, 23, 24, 25, 26, 27, 28, 29, 30, 31, 32, 33,\n",
       "       34, 35, 36, 37, 38, 39, 40, 41, 42, 43, 44, 45, 46])"
      ]
     },
     "execution_count": 155,
     "metadata": {},
     "output_type": "execute_result"
    }
   ],
   "source": [
    "#Use LabelEncoder class to convert categorical data into numerical one\n",
    "from sklearn.preprocessing import LabelEncoder\n",
    "le=LabelEncoder()\n",
    "dataset1.country=le.fit_transform(dataset1.country)\n",
    "dataset1.country.unique()"
   ]
  },
  {
   "cell_type": "code",
   "execution_count": 156,
   "metadata": {},
   "outputs": [],
   "source": [
    "dataset1.sex=le.fit_transform(dataset1.sex)"
   ]
  },
  {
   "cell_type": "code",
   "execution_count": 157,
   "metadata": {},
   "outputs": [],
   "source": [
    "dataset1.age=le.fit_transform(dataset1.age)"
   ]
  },
  {
   "cell_type": "code",
   "execution_count": 158,
   "metadata": {},
   "outputs": [],
   "source": [
    "dataset1.generation=le.fit_transform(dataset1.generation)"
   ]
  }
 ],
 "metadata": {
  "kernelspec": {
   "display_name": "Python 3",
   "language": "python",
   "name": "python3"
  },
  "language_info": {
   "codemirror_mode": {
    "name": "ipython",
    "version": 3
   },
   "file_extension": ".py",
   "mimetype": "text/x-python",
   "name": "python",
   "nbconvert_exporter": "python",
   "pygments_lexer": "ipython3",
   "version": "3.8.3"
  }
 },
 "nbformat": 4,
 "nbformat_minor": 4
}
